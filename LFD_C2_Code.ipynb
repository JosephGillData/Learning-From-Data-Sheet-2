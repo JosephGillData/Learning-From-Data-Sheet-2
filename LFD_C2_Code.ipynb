{
 "cells": [
  {
   "cell_type": "markdown",
   "metadata": {},
   "source": [
    "# Coursework 2 - ECMM445 Learning from Data"
   ]
  },
  {
   "cell_type": "markdown",
   "metadata": {},
   "source": [
    "### Candidate number: 087074"
   ]
  },
  {
   "cell_type": "markdown",
   "metadata": {},
   "source": [
    "# Task 1: KNN"
   ]
  },
  {
   "cell_type": "code",
   "execution_count": 1,
   "metadata": {},
   "outputs": [],
   "source": [
    "# Import the appropriate packages into Python\n",
    "\n",
    "import numpy as np\n",
    "import pandas as pd\n",
    "import matplotlib.pyplot as plt\n",
    "import math\n",
    "import random\n",
    "import sklearn\n",
    "\n",
    "# Task 1\n",
    "from sklearn import preprocessing\n",
    "from sklearn.neighbors import KNeighborsClassifier\n",
    "from sklearn.model_selection import KFold\n",
    "from sklearn.metrics import accuracy_score\n",
    "from sklearn.preprocessing import MinMaxScaler\n",
    "from sklearn.model_selection import train_test_split #\n",
    "\n",
    "# Task 2\n",
    "from sklearn.tree import DecisionTreeClassifier\n",
    "from sklearn.neural_network import MLPClassifier\n",
    "import warnings # Because a warning occurs for the neural network - \"optimum not reached adter 200 iterations\"\n",
    "warnings.simplefilter(action='ignore', category=Warning)"
   ]
  },
  {
   "cell_type": "code",
   "execution_count": 2,
   "metadata": {},
   "outputs": [],
   "source": [
    "# Load the diabetes database, break it down into source and target variables and normalise the source variables\n",
    "\n",
    "task1_diabetes = pd.read_csv(\"task1_diabetes.txt\") \n",
    "source = task1_diabetes.iloc[:,:-1] \n",
    "normalised_source = source.copy() # Normalise the source variables using Min-Max scalar\n",
    "scaler = MinMaxScaler()\n",
    "normalised_source[:] = scaler.fit_transform(normalised_source[:])\n",
    "\n",
    "target = task1_diabetes.iloc[:,-1:] \n",
    "y_train = target['class'].to_list()\n",
    "\n",
    "normalised_data = normalised_source.copy() # Create a normalised dataset with source and target variables\n",
    "normalised_data['class'] = target"
   ]
  },
  {
   "cell_type": "code",
   "execution_count": 3,
   "metadata": {},
   "outputs": [],
   "source": [
    "# A function that calculates the Euclidean distance between two points based on the values \n",
    "# of three random characteristics\n",
    "\n",
    "def distance_cw2(x,y): \n",
    "    m = 3 # As required, m = 3\n",
    "    total = 0\n",
    "    char_compared = [] # Ensure that the same characteristic isn't compared twice\n",
    "    for i in range(0,m): \n",
    "        random_char = random.randint(0,(len(x)-1))\n",
    "        while random_char in char_compared:\n",
    "            random_char = random.randint(0,(len(x)-1))\n",
    "        char_compared.append(random_char)\n",
    "        total += (x[random_char]-y[random_char])**2\n",
    "    Euclidean = math.sqrt(total)\n",
    "    return(Euclidean) "
   ]
  },
  {
   "cell_type": "code",
   "execution_count": 4,
   "metadata": {},
   "outputs": [],
   "source": [
    "# A function that, using the input of a distance metric and the number of nearest neighbours, \n",
    "# trains a K Nearest Neighbor using 10-fold validation. The ouput is the average mean and average standard deviation\n",
    "# of the accuracy from the 10-fold validation.\n",
    "\n",
    "def KNN(user_metric, k):\n",
    "    acc_scores = []\n",
    "    X = normalised_data.copy() \n",
    "    kf = KFold(n_splits=10)\n",
    "    for train_index, test_index in kf.split(X): # Iterate over each fold\n",
    "        # Create appropriate train and test sets\n",
    "        X_train, X_test = normalised_source.iloc[train_index], normalised_source.iloc[test_index]\n",
    "        y_train, y_test = target.iloc[train_index], target.iloc[test_index]\n",
    "        y_train_copy = y_train['class'].to_list()\n",
    "        y_test_copy = y_test['class'].to_list()\n",
    "        \n",
    "        # Apply the K Nearest Neighbor algorithm\n",
    "        knn = KNeighborsClassifier(n_neighbors=k, metric=user_metric)\n",
    "        knn.fit(X_train, y_train_copy)\n",
    "        y_predict = knn.predict(X_test)\n",
    "        ACC = accuracy_score(y_test_copy, y_predict)\n",
    "        acc_scores.append(ACC) # Append the accuracy of that fold \n",
    "    # Get the average accuracy and standard deviation\n",
    "    mean_acc = np.mean(acc_scores)\n",
    "    std_acc = np.std(acc_scores)\n",
    "    return mean_acc, std_acc"
   ]
  },
  {
   "cell_type": "code",
   "execution_count": 5,
   "metadata": {},
   "outputs": [
    {
     "data": {
      "text/html": [
       "<div>\n",
       "<style scoped>\n",
       "    .dataframe tbody tr th:only-of-type {\n",
       "        vertical-align: middle;\n",
       "    }\n",
       "\n",
       "    .dataframe tbody tr th {\n",
       "        vertical-align: top;\n",
       "    }\n",
       "\n",
       "    .dataframe thead th {\n",
       "        text-align: right;\n",
       "    }\n",
       "</style>\n",
       "<table border=\"1\" class=\"dataframe\">\n",
       "  <thead>\n",
       "    <tr style=\"text-align: right;\">\n",
       "      <th></th>\n",
       "      <th>Distance_cw2</th>\n",
       "      <th>Euclidean</th>\n",
       "      <th>Manhattan</th>\n",
       "      <th>Chebyshev</th>\n",
       "    </tr>\n",
       "    <tr>\n",
       "      <th>k</th>\n",
       "      <th></th>\n",
       "      <th></th>\n",
       "      <th></th>\n",
       "      <th></th>\n",
       "    </tr>\n",
       "  </thead>\n",
       "  <tbody>\n",
       "    <tr>\n",
       "      <th>1</th>\n",
       "      <td>0.61±0.06</td>\n",
       "      <td>0.7±0.06</td>\n",
       "      <td>0.7±0.06</td>\n",
       "      <td>0.69±0.07</td>\n",
       "    </tr>\n",
       "    <tr>\n",
       "      <th>3</th>\n",
       "      <td>0.66±0.05</td>\n",
       "      <td>0.74±0.05</td>\n",
       "      <td>0.73±0.05</td>\n",
       "      <td>0.73±0.05</td>\n",
       "    </tr>\n",
       "    <tr>\n",
       "      <th>5</th>\n",
       "      <td>0.68±0.05</td>\n",
       "      <td>0.74±0.06</td>\n",
       "      <td>0.74±0.05</td>\n",
       "      <td>0.72±0.04</td>\n",
       "    </tr>\n",
       "    <tr>\n",
       "      <th>7</th>\n",
       "      <td>0.67±0.05</td>\n",
       "      <td>0.75±0.06</td>\n",
       "      <td>0.73±0.05</td>\n",
       "      <td>0.73±0.06</td>\n",
       "    </tr>\n",
       "  </tbody>\n",
       "</table>\n",
       "</div>"
      ],
      "text/plain": [
       "  Distance_cw2  Euclidean  Manhattan  Chebyshev\n",
       "k                                              \n",
       "1    0.61±0.06   0.7±0.06   0.7±0.06  0.69±0.07\n",
       "3    0.66±0.05  0.74±0.05  0.73±0.05  0.73±0.05\n",
       "5    0.68±0.05  0.74±0.06  0.74±0.05  0.72±0.04\n",
       "7    0.67±0.05  0.75±0.06  0.73±0.05  0.73±0.06"
      ]
     },
     "execution_count": 5,
     "metadata": {},
     "output_type": "execute_result"
    }
   ],
   "source": [
    "# This creates a dataframe with the average mean ± standard deviation of the accuracy of each distance metric \n",
    "# for k = 1,3,5,7\n",
    "\n",
    "k_list = [1,3,5,7]\n",
    "columns = ['Distance_cw2', 'Euclidean', 'Manhattan', 'Chebyshev']\n",
    "dataframe_accuracy = pd.DataFrame(index=k_list, columns=columns)\n",
    "dataframe_accuracy['k'] = k_list\n",
    "dataframe_accuracy.set_index('k', inplace=True)\n",
    "mean_accuracies_d = []\n",
    "mean_accuracies_e = []\n",
    "mean_accuracies_m = []\n",
    "mean_accuracies_c = []\n",
    "\n",
    "for k in k_list:\n",
    "    random.seed(k) # Set random seed to ensure the reproducability of results\n",
    "    mean_acc_d, std_acc_d = KNN(distance_cw2, k)\n",
    "    mean_acc_e, std_acc_e = KNN('euclidean', k) # Applying the KNN function for each distance metric and k\n",
    "    mean_acc_m, std_acc_m = KNN('manhattan', k)\n",
    "    mean_acc_c, std_acc_c = KNN('chebyshev', k)\n",
    "    \n",
    "    mean_std_d = str(mean_acc_d.round(2)) + '±' + str(std_acc_d.round(2)) # Round to 2dp for better data \n",
    "    mean_std_e = str(mean_acc_e.round(2)) + '±' + str(std_acc_e.round(2)) # visualisation\n",
    "    mean_std_m = str(mean_acc_m.round(2)) + '±' + str(std_acc_m.round(2))\n",
    "    mean_std_c = str(mean_acc_c.round(2)) + '±' + str(std_acc_c.round(2))\n",
    "    mean_stds = [mean_std_d, mean_std_e, mean_std_m, mean_std_c]\n",
    "    dataframe_accuracy.loc[k] = mean_stds\n",
    "    \n",
    "    # Store data in lists so a graph can be plotted\n",
    "    mean_accuracies_d.append(mean_acc_d)\n",
    "    mean_accuracies_e.append(mean_acc_e)\n",
    "    mean_accuracies_m.append(mean_acc_m)\n",
    "    mean_accuracies_c.append(mean_acc_c)\n",
    "\n",
    "dataframe_accuracy"
   ]
  },
  {
   "cell_type": "code",
   "execution_count": 6,
   "metadata": {},
   "outputs": [
    {
     "data": {
      "image/png": "[encoded data removed]",
      "text/plain": [
       "<Figure size 432x288 with 1 Axes>"
      ]
     },
     "metadata": {
      "needs_background": "light"
     },
     "output_type": "display_data"
    }
   ],
   "source": [
    "# Create a plot of the accuracy of each distance metric when varying the K values\n",
    "\n",
    "# Create the graph with suitable axes and labels\n",
    "plt.title(\"Accuracy of distance functions when varying K\", fontsize=14)\n",
    "plt.xlabel(\"K\", fontsize=12)\n",
    "plt.ylabel(\"Accuracy\", fontsize=12)\n",
    "plt.xticks(np.arange(1, 8, step=2))\n",
    "axes = plt.gca()\n",
    "axes.set_xlim([1,7])\n",
    "axes.set_ylim([0.59,0.76])\n",
    "\n",
    "plt.plot(k_list,mean_accuracies_d, \"-b\", label=\"Distance_cw2\") # Plot the values for each distance metric\n",
    "plt.plot(k_list,mean_accuracies_e, \"-y\", label=\"Euclidean\")\n",
    "plt.plot(k_list,mean_accuracies_m, \"-r\", label=\"Manhattan\")\n",
    "plt.plot(k_list,mean_accuracies_c, \"-g\", label=\"Chebyshev\")\n",
    "plt.legend(loc=\"lower right\") # Set legend to bottom right\n",
    "plt.show()"
   ]
  },
  {
   "cell_type": "markdown",
   "metadata": {},
   "source": [
    "# Task 2: Impact of Noise"
   ]
  },
  {
   "cell_type": "code",
   "execution_count": 7,
   "metadata": {},
   "outputs": [],
   "source": [
    "# Load the training set, break it down into source and target variables and normalise the source variables\n",
    "\n",
    "task2_train = pd.read_csv(\"task2_train.txt\")\n",
    "\n",
    "scaler = MinMaxScaler() # Use Min-Max technique\n",
    "source_train = task2_train.iloc[:,:-1]\n",
    "normalised_source_train = source_train.copy()\n",
    "normalised_source_train[:] = scaler.fit_transform(normalised_source_train[:])\n",
    "\n",
    "target_train = task2_train.iloc[:,-1:] \n",
    "y_train = target_train['class'].to_list()"
   ]
  },
  {
   "cell_type": "code",
   "execution_count": 8,
   "metadata": {},
   "outputs": [],
   "source": [
    "# Load the testing set, break it down into source and target variables and normalise the source variables\n",
    "task2_test = pd.read_csv(\"task2_test.txt\")  \n",
    "\n",
    "source_test = task2_test.iloc[:,:-1]\n",
    "normalised_source_test = source_test.copy()\n",
    "normalised_source_test[:] = scaler.fit_transform(normalised_source_test[:])\n",
    "\n",
    "target_test = task2_test.iloc[:,-1:] \n",
    "y_test = target_test['class'].to_list()"
   ]
  },
  {
   "cell_type": "code",
   "execution_count": 9,
   "metadata": {},
   "outputs": [],
   "source": [
    "# A function that requires the input of the target values of a dataset and the noise to be added.\n",
    "# The specified percentage of noise is then added and the noisy dataset is outputted.\n",
    "\n",
    "def add_noise(target, percent):\n",
    "    noisy_target = target.copy()\n",
    "    table_length = len(noisy_target['class'])\n",
    "    one_percent = math.floor(table_length/100) # Calculate the number of targets that need to be changed\n",
    "    num_of_rows = one_percent*percent\n",
    "    random_rows = []\n",
    "    for i in range(0, num_of_rows):\n",
    "        random_row = random.randint(0,table_length-1)\n",
    "        if noisy_target.loc[random_row,'class'] == 1: # Ensure the same target isn't changed twice\n",
    "            noisy_target.loc[random_row,'class'] = 0\n",
    "        else:\n",
    "            noisy_target.loc[random_row,'class'] = 1\n",
    "    return(noisy_target)"
   ]
  },
  {
   "cell_type": "code",
   "execution_count": null,
   "metadata": {},
   "outputs": [],
   "source": [
    "# This trains three different models on the noisy datasets (ranging from 0%-30% noise) and calculates \n",
    "# their accuracy at predicting the results of the test set. For each noise level, this is repeated 50\n",
    "# times and the average accuracy is taken. \n",
    "\n",
    "accuracy_NN = [] # Creat empty lists that store the accuracy of each method for different noise levels\n",
    "accuracy_KNN = []\n",
    "accuracy_DT = []\n",
    "noise = []\n",
    "\n",
    "for i in range(0,30,2): # Iterate from 0%-30% of noise\n",
    "    acccuracy_of_NN = [] # Create empty lists to store the 50 iterations for each noise level.\n",
    "    acccuracy_of_KNN = [] # The average will be taken\n",
    "    acccuracy_of_DT = []\n",
    "    for h in range(0,50):\n",
    "        random.seed(h) # Set random seed equal to h to ensure reporoducability\n",
    "        noisy_target = add_noise(target_train,i) \n",
    "        y_train = noisy_target['class'].to_list() \n",
    "        \n",
    "        Neural_network = MLPClassifier(hidden_layer_sizes=(8,3), random_state=20)\n",
    "        Neural_network.fit(normalised_source_train, y_train) # Train a neural network to the noisy data\n",
    "        y_predict_NN = Neural_network.predict(normalised_source_test)\n",
    "        ACC_NN = accuracy_score(y_predict_NN,y_test)\n",
    "        acccuracy_of_NN.append(ACC_NN) # Store the accuracy\n",
    "        \n",
    "        knn = KNeighborsClassifier(n_neighbors = 5, weights = 'distance')\n",
    "        knn.fit(normalised_source_train, y_train) # Train a K nearest neighbor model\n",
    "        y_predict_KNN = knn.predict(normalised_source_test)\n",
    "        ACC_KNN = accuracy_score(y_predict_KNN,y_test)\n",
    "        acccuracy_of_KNN.append(ACC_KNN)\n",
    "        \n",
    "        DT_model = DecisionTreeClassifier(max_depth = 2) # Set max_depth to 2 as this produces the best results\n",
    "        DT_model = DT_model.fit(normalised_source_train, y_train) # Train a decision tree model\n",
    "        y_predict_DT = DT_model.predict(normalised_source_test)\n",
    "        ACC_DT = accuracy_score(y_predict_DT,y_test)\n",
    "        acccuracy_of_DT.append(ACC_DT)\n",
    "        \n",
    "    accuracy_NN.append(np.mean(acccuracy_of_NN)) # Take the average accuracy over the 50 iterations\n",
    "    accuracy_KNN.append(np.mean(acccuracy_of_KNN)) # for each model.\n",
    "    accuracy_DT.append(np.mean(acccuracy_of_DT))\n",
    "    noise.append(i)"
   ]
  },
  {
   "cell_type": "code",
   "execution_count": null,
   "metadata": {},
   "outputs": [],
   "source": [
    "# Plot the accuracy of the models for different noise levels\n",
    "\n",
    "plt.title(\"Accuracy of different classifiers when varying the level of noise\", fontsize=14)\n",
    "plt.xlabel(\"Noise (%)\", fontsize=12)\n",
    "plt.ylabel(\"Accuracy\", fontsize=12)\n",
    "axes = plt.gca()\n",
    "axes.set_xlim([0,30])\n",
    "axes.set_ylim([0.58,0.75])\n",
    "\n",
    "plt.plot(noise, accuracy_NN, \"-b\", label=\"Neural Network\")\n",
    "plt.plot(noise, accuracy_KNN, \"-g\", label=\"K Nearest Neighbor\")\n",
    "plt.plot(noise, accuracy_DT,  \"-r\", label=\"Decision Tree\")\n",
    "plt.legend(loc=\"top right\") # Set legend to bottom right\n",
    "plt.show()"
   ]
  },
  {
   "cell_type": "markdown",
   "metadata": {},
   "source": [
    "   # Task 3: Reflection"
   ]
  },
  {
   "cell_type": "markdown",
   "metadata": {},
   "source": [
    "### Task 1\n",
    "Task 1 is to analyse the performance of the K Nearest Neighbour (KNN) classification algorithm on the “diabetes.txt” dataset using different distance metrics and values of k. I made the distance metric “distance_cw2” that calculates the Euclidean distance between two observations based on three randomly chosen characteristics. The distance_cw2 metric and the built-in “Euclidean”, “Manhattan” and “Chebyshev” metrics were used to train and test a KNN model on the dataset using the 10-fold validation method. The performance of these different metrics was analysed when the number of nearest neighbours, k, was varied over values 1, 3, 5, 7.\n",
    "\n",
    "The built-in functions all increased in accuracy from around 0.70 to 0.74 as k increased, whereas distance_cw2 increased in accuracy from 0.61 to 0.67. Therefore, the experiment showed that the built-in Euclidean, Manhattan and Chebyshev metrics are more effective than the handmade distance_cw2 metric.\n",
    "\n",
    "The experiment could be improved by calculating the run time of the KNN algorithm when using the different metrics. Therefore, we could see if the better performance of different metrics is at the expense of higher computation levels. \n",
    "\n",
    "### Task 2\n",
    "Task 2 is to compare the performance of K Nearest Neighbour (KNN), Decision Tree (DT) and Neural Network (NN) classification models when trained on a noisy dataset. To do this, the level of noise in the “task2_train.txt” was increased from 0% to 30% and the KNN, DT and NN models were trained on the dataset at each level of noise. Their ability to accurately predict the classifications of the test dataset, “task2_test.txt” was then measured. This was repeated 50 times to get the average accuracy of each model at each noise level. \n",
    "\n",
    "At a level of 0% noise, the NN has a 73% accuracy rate, the DT a 68% accuracy rate and the KNN a 66% accuracy rate. As the level of noise increased, the accuracy of all three models reduced by around 5%. Overall, the NN outperformed the other two models by 5%, proving it to be the best classifier model in this scenario. \n",
    "\n",
    "Currently, the performance of models is only being analysed using pre-determined parameters. The value of these parameters is very important and can massively affect the performance of the models. Therefore, to improve the experiment, the parameters of the models could be varied to determine the parameters that maximise their model’s performance levels. These parameters could then be used in the experiment. \n"
   ]
  }
 ],
 "metadata": {
  "kernelspec": {
   "display_name": "Python 3",
   "language": "python",
   "name": "python3"
  },
  "language_info": {
   "codemirror_mode": {
    "name": "ipython",
    "version": 3
   },
   "file_extension": ".py",
   "mimetype": "text/x-python",
   "name": "python",
   "nbconvert_exporter": "python",
   "pygments_lexer": "ipython3",
   "version": "3.8.3"
  }
 },
 "nbformat": 4,
 "nbformat_minor": 2
}
